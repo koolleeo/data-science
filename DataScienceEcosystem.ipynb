{
 "cells": [
  {
   "cell_type": "markdown",
   "id": "6068e8cc-2fb1-4ea0-953d-e7f755209443",
   "metadata": {},
   "source": [
    "# Data Science Tools and Ecosystem"
   ]
  },
  {
   "cell_type": "markdown",
   "id": "34523b52-b3de-4bc7-a161-741eea3aab00",
   "metadata": {},
   "source": [
    "In this notebook, Data Science Tools and Ecosystems are summarized"
   ]
  },
  {
   "cell_type": "markdown",
   "id": "863faefa-b42c-4075-96e5-7e8bd1365ecc",
   "metadata": {},
   "source": [
    "Some of the popular languages that Data Scientists use are:\n",
    "\n",
    "1. Python\n",
    "2. R\n",
    "3. Julia\n",
    "4. Apache toree - Scala\n",
    "5. Swift"
   ]
  },
  {
   "cell_type": "markdown",
   "id": "43d3d413-0c6c-45ab-808d-a7f42cfa3b36",
   "metadata": {},
   "source": [
    "Some of the commonly used libraries used by Data Scientists include:\n",
    "\n",
    "1. dplr \n",
    "2. Stringr\n",
    "3. ggplot\n",
    "4. caret"
   ]
  },
  {
   "cell_type": "markdown",
   "id": "60b6a239-d1d8-4d0d-b5c2-5989a7410113",
   "metadata": {},
   "source": [
    "| Data Science Tools |\n",
    "|--------------------|\n",
    "| data science       |\n",
    "| data science       |\n",
    "| data science       |"
   ]
  },
  {
   "cell_type": "markdown",
   "id": "05d867c0-307b-4ad4-833b-df79d3febfae",
   "metadata": {},
   "source": [
    "### Below are a few examples of evaluating arithmetic expressions in Python"
   ]
  },
  {
   "cell_type": "code",
   "execution_count": 6,
   "id": "7691faeb-7148-43db-9629-57d3e1d01b0c",
   "metadata": {},
   "outputs": [
    {
     "data": {
      "text/plain": [
       "17"
      ]
     },
     "execution_count": 6,
     "metadata": {},
     "output_type": "execute_result"
    }
   ],
   "source": [
    "# This a simple arithmetic expression to mutiply then add integers.\n",
    "(3*4)+5"
   ]
  },
  {
   "cell_type": "code",
   "execution_count": 7,
   "id": "6aad0de9-fa25-41c2-9cd4-3652b3acd578",
   "metadata": {},
   "outputs": [
    {
     "data": {
      "text/plain": [
       "3.3333333333333335"
      ]
     },
     "execution_count": 7,
     "metadata": {},
     "output_type": "execute_result"
    }
   ],
   "source": [
    "# This will convert 200 minutes to hours by diving by 60\n",
    "200 / 60"
   ]
  },
  {
   "cell_type": "markdown",
   "id": "27e9051d-7f8a-47a7-9ca4-556b0efa9c0d",
   "metadata": {},
   "source": [
    "**Objectives**\n",
    "\n",
    "+ List popular languages for Data Science\n",
    "+ List popular libraries for Data Science\n",
    "+ List popular Data Science Tools\n",
    "+ List commercial tools for Data Science\n",
    "+ Explain what Code asset management is"
   ]
  },
  {
   "cell_type": "markdown",
   "id": "e157a8c9-7535-4704-86e4-9b5f312e34f1",
   "metadata": {},
   "source": [
    "## Author:\n",
    "Leigh Ally"
   ]
  }
 ],
 "metadata": {
  "kernelspec": {
   "display_name": "Python",
   "language": "python",
   "name": "conda-env-python-py"
  },
  "language_info": {
   "codemirror_mode": {
    "name": "ipython",
    "version": 3
   },
   "file_extension": ".py",
   "mimetype": "text/x-python",
   "name": "python",
   "nbconvert_exporter": "python",
   "pygments_lexer": "ipython3",
   "version": "3.7.12"
  }
 },
 "nbformat": 4,
 "nbformat_minor": 5
}
